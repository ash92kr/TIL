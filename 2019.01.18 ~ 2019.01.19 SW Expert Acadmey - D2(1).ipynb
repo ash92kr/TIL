{
 "cells": [
  {
   "cell_type": "code",
   "execution_count": null,
   "metadata": {},
   "outputs": [],
   "source": []
  },
  {
   "cell_type": "markdown",
   "metadata": {},
   "source": [
    "(1204)\n",
    "\n",
    "어느 고등학교에서 실시한 1000명의 수학 성적을 토대로 통계 자료를 만들려고 한다.\n",
    "\n",
    "이때, 이 학교에서는 최빈수를 이용하여 학생들의 평균 수준을 짐작하는데, 여기서 최빈수는 특정 자료에서 가장 여러 번 나타나는 값을 의미한다.\n",
    "\n",
    "다음과 같은 수 분포가 있으면,\n",
    "\n",
    "10, 8, 7, 2, 2, 4, 8, 8, 8, 9, 5, 5, 3\n",
    "\n",
    "최빈수는 8이 된다.\n",
    "\n",
    "최빈수를 출력하는 프로그램을 작성하여라 (단, 최빈수가 여러 개 일 때에는 가장 큰 점수를 출력하라).\n",
    "\n",
    "[제약 사항]\n",
    "\n",
    "학생의 수는 1000명이며, 각 학생의 점수는 0점 이상 100점 이하의 값이다.\n",
    " \n",
    "[입력]\n",
    "\n",
    "첫 번째 줄에 테스트 케이스의 수 T가 주어진다.\n",
    "\n",
    "각 테스트 케이스의 첫 줄에는 테스트 케이스의 번호가 주어지고 그 다음 줄부터는 점수가 주어진다.\n",
    "\n",
    "[출력]\n",
    "\n",
    "#부호와 함께 테스트 케이스의 번호를 출력하고, 공백 문자 후 테스트 케이스에 대한 답을 출력한다."
   ]
  },
  {
   "cell_type": "code",
   "execution_count": null,
   "metadata": {
    "scrolled": true
   },
   "outputs": [],
   "source": [
    "T = int(input())\n",
    "\n",
    "for i in range(T):\n",
    "    \n",
    "    bunho = int(input())\n",
    "    jumsu = list(map(int, input().split()))\n",
    "    count = [0] * 101\n",
    "    standard = 0\n",
    "    prequency = 0\n",
    "    \n",
    "    for j in range(len(jumsu)):\n",
    "        count[jumsu[j]] += 1\n",
    "        \n",
    "    for k in range(len(count)):\n",
    "        if count[k] >= standard:\n",
    "            standard = count[k]\n",
    "            prequency = k\n",
    "    \n",
    "    print(f'#{bunho} {prequency}')"
   ]
  },
  {
   "cell_type": "code",
   "execution_count": null,
   "metadata": {},
   "outputs": [],
   "source": []
  },
  {
   "cell_type": "code",
   "execution_count": null,
   "metadata": {},
   "outputs": [],
   "source": []
  },
  {
   "cell_type": "code",
   "execution_count": null,
   "metadata": {},
   "outputs": [],
   "source": []
  },
  {
   "cell_type": "code",
   "execution_count": null,
   "metadata": {},
   "outputs": [],
   "source": []
  },
  {
   "cell_type": "code",
   "execution_count": null,
   "metadata": {},
   "outputs": [],
   "source": []
  },
  {
   "cell_type": "code",
   "execution_count": null,
   "metadata": {},
   "outputs": [],
   "source": []
  },
  {
   "cell_type": "markdown",
   "metadata": {},
   "source": [
    "(1284)\n",
    "\n",
    "삼성전자에 입사한 종민이는 회사 근처로 이사를 하게 되었다.\n",
    "\n",
    "그런데 집의 위치가 두 수도 회사 A, B 중간에 위치하기에 원하는 수도 회사를 선택할 수 있게 되었는데, 두 회사 중 더 적게 수도 요금을 부담해도 되는 회사를 고르려고 한다.\n",
    " \n",
    "종민이가 알아본 결과 두 회사의 수도 요금은 한 달 동안 사용한 수도의 양에 따라 다음과 같이 정해진다.\n",
    " \n",
    "A사 : 1리터당 P원의 돈을 내야 한다.\n",
    "\n",
    "B사 : 기본 요금이 Q원이고, 월간 사용량이 R리터 이하인 경우 요금은 기본 요금만 청구된다. 하지만 R 리터보다 많은 양을 사용한 경우 초과량에 대해 1리터당 S원의 요금을 더 내야 한다.\n",
    " \n",
    "종민이의 집에서 한 달간 사용하는 수도의 양이 W리터라고 할 때, 요금이 더 저렴한 회사를 골라 그 요금을 출력하는 프로그램을 작성하라.\n",
    "\n",
    "[입력]\n",
    "\n",
    "첫 번째 줄에 테스트 케이스의 수 T가 주어진다.\n",
    "\n",
    "각 테스트 케이스마다 첫 번째 줄에 위 본문에서 설명한 대로 P, Q, R, S, W(1 ≤ P, Q, R, S, W ≤ 10000, 자연수)가 순서대로 공백 하나로 구분되어 주어진다.\n",
    "\n",
    "[출력]\n",
    "\n",
    "각 테스트 케이스마다 ‘#x’(x는 테스트케이스 번호를 의미하며 1부터 시작한다)를 출력하고, 종민이가 내야 하는 수도 요금을 출력한다.\n"
   ]
  },
  {
   "cell_type": "code",
   "execution_count": null,
   "metadata": {},
   "outputs": [],
   "source": [
    "T = int(input())\n",
    "\n",
    "for i in range(T):\n",
    "    \n",
    "    numbers = list(map(int, input().split()))\n",
    "    # A사 리터당 요금, B사 기본료, B사 기준 사용량, B사 리터당 요금, 실제 사용량\n",
    "    \n",
    "    a_tax = numbers[0] * numbers[4]\n",
    "    b_tax = 0\n",
    "    \n",
    "    if numbers[4] <= numbers[2]:\n",
    "        b_tax = numbers[1]\n",
    "    else:\n",
    "        b_tax = numbers[1] + ((numbers[4] - numbers[2]) * numbers[3])\n",
    "            \n",
    "    if a_tax > b_tax:\n",
    "        print(f'#{i+1} {b_tax}')\n",
    "    else:\n",
    "        print(f'#{i+1} {a_tax}')"
   ]
  },
  {
   "cell_type": "code",
   "execution_count": null,
   "metadata": {},
   "outputs": [],
   "source": []
  },
  {
   "cell_type": "code",
   "execution_count": null,
   "metadata": {},
   "outputs": [],
   "source": []
  },
  {
   "cell_type": "code",
   "execution_count": null,
   "metadata": {},
   "outputs": [],
   "source": []
  },
  {
   "cell_type": "code",
   "execution_count": null,
   "metadata": {},
   "outputs": [],
   "source": []
  },
  {
   "cell_type": "code",
   "execution_count": null,
   "metadata": {},
   "outputs": [],
   "source": []
  },
  {
   "cell_type": "code",
   "execution_count": null,
   "metadata": {},
   "outputs": [],
   "source": []
  },
  {
   "cell_type": "markdown",
   "metadata": {},
   "source": [
    "(1285)\n",
    "\n",
    "아름이를 포함하여 총 N명의 사람이 돌 던지기 게임을 하고 있다.\n",
    "\n",
    "이 돌 던지기 게임은 앞으로 돌을 던져 원하는 지점에 최대한 가깝게 돌을 던지는 게임이다.\n",
    "\n",
    "정확하게 말하면 밀리미터 단위로 -100,000에서 100,000까지의 숫자가 일렬로 써져 있을 때, 사람들은 숫자 100,000이 써져 있는 위치에 서서 최대한 0에 가까운 위치로 돌을 던지려고 한다.\n",
    "\n",
    "N명의 사람들이 던진 돌이 떨어진 위치를 측정한 자료가 주어질 때, 가장 0에 가깝게 돌이 떨어진 위치와 0 사이의 거리 차이와 몇 명이 그렇게 돌을 던졌는지를 구하는 프로그램을 작성하라.\n",
    "\n",
    "[입력]\n",
    "\n",
    "첫 번째 줄에 테스트 케이스의 수 T가 주어진다.\n",
    "\n",
    "각 테스트 케이스의 첫 번째 줄에는 돌을 던지는 사람의 수 N(1≤N≤1,000)이 주어진다.\n",
    "\n",
    "두 번째 줄에는 각 사람이 돌을 던졌을 때 돌이 떨어진 위치를 나타내는 N개의 정수가 공백으로 구분되어 주어진다.\n",
    "\n",
    "모든 사람이 돌을 그럭저럭 잘 던졌기 때문에, 돌이 떨어지는 위치는 항상   -100,000에서 100,000사이 범위의 정수이다. (-100,000과 100,000도 돌이 떨어질 수 있다.)\n",
    "\n",
    "[출력]\n",
    "\n",
    "각 테스트 케이스마다 ‘#x’(x는 테스트케이스 번호를 의미하며 1부터 시작한다)를 출력하고,\n",
    "\n",
    "돌이 가장 0에 가깝게 떨어진 곳과 0 사이의 거리 차이와 그렇게 던진 사람이 몇 명인지 나타내는 정수를 공백 하나로 구분하여 출력한다.\n",
    "\n"
   ]
  },
  {
   "cell_type": "code",
   "execution_count": 7,
   "metadata": {},
   "outputs": [
    {
     "name": "stdout",
     "output_type": "stream",
     "text": [
      "2\n",
      "2\n",
      "-100 100\n",
      "#1 100 2\n",
      "3\n",
      "-5 -1 3\n",
      "#2 1 1\n"
     ]
    }
   ],
   "source": [
    "T = int(input())\n",
    "\n",
    "for i in range(T):\n",
    "    \n",
    "    N = int(input())  # 돌 던지는 사람 수\n",
    "    throw = list(map(int, input().split()))  # 각 사람이 던진 위치\n",
    "    distance = [0] * len(throw)   # 각 사람의 거리를 저장할 리스트\n",
    "    min_distance = 100000   # 최소 거리\n",
    "    count = 0   # 최소 거리를 던진 사람의 수\n",
    "    \n",
    "    for j in range(len(throw)):\n",
    "        if throw[j] < 0:\n",
    "            distance[j] = 0 - throw[j]\n",
    "        else:\n",
    "            distance[j] = throw[j] - 0\n",
    "\n",
    "    for k in range(len(distance)):\n",
    "        if distance[k] < min_distance:\n",
    "            count = 0   # 최소 거리를 던진 사람의 수 초기화\n",
    "            min_distance = distance[k]\n",
    "            count += 1\n",
    "        elif distance[k] == min_distance:\n",
    "            count += 1\n",
    "    \n",
    "    print(f'#{i+1} {min_distance} {count}')"
   ]
  },
  {
   "cell_type": "code",
   "execution_count": null,
   "metadata": {},
   "outputs": [],
   "source": []
  },
  {
   "cell_type": "code",
   "execution_count": null,
   "metadata": {},
   "outputs": [],
   "source": []
  },
  {
   "cell_type": "code",
   "execution_count": null,
   "metadata": {},
   "outputs": [],
   "source": []
  },
  {
   "cell_type": "code",
   "execution_count": null,
   "metadata": {},
   "outputs": [],
   "source": []
  },
  {
   "cell_type": "code",
   "execution_count": null,
   "metadata": {},
   "outputs": [],
   "source": []
  },
  {
   "cell_type": "code",
   "execution_count": null,
   "metadata": {},
   "outputs": [],
   "source": []
  },
  {
   "cell_type": "markdown",
   "metadata": {},
   "source": [
    "(1288)\n",
    "\n",
    "민석이는 불면증에 걸렸다. 그래서 잠이 안 올 때의 민간요법 중 하나인 양 세기를 하려고 한다.\n",
    "\n",
    "민석이는 1번 양부터 순서대로 세는 것이 재미없을 것 같아서 N의 배수 번호인 양을 세기로 하였다.\n",
    "\n",
    "즉, 첫 번째에는 N번 양을 세고, 두 번째에는 2N번 양, … , k번째에는 kN번 양을 센다.\n",
    "\n",
    "이렇게 숫자를 세던 민석이에게 잠은 더 오지 않고 다음과 같은 궁금증이 생겼다.\n",
    "\n",
    "이전에 셌던 번호들의 각 자리수에서 0에서 9까지의 모든 숫자를 보는 것은 최소 몇 번 양을 센 시점일까?\n",
    "\n",
    "예를 들어 N = 1295이라고 하자.\n",
    "\n",
    "첫 번째로 N = 1295번 양을 센다. 현재 본 숫자는 1, 2, 5, 9이다.\n",
    "\n",
    "두 번째로 2N = 2590번 양을 센다. 현재 본 숫자는 0, 2, 5, 9이다.\n",
    "\n",
    "현재까지 본 숫자는 0, 1, 2, 5, 9이다.\n",
    "\n",
    "세 번째로 3N = 3885번 양을 센다. 현재 본 숫자는 3, 5, 8이다.\n",
    "\n",
    "현재까지 본 숫자는 0, 1, 2, 3, 5, 8, 9이다.\n",
    "\n",
    "네 번째로 4N = 5180번 양을 센다. 현재 본 숫자는 0, 1, 5, 8이다.\n",
    "\n",
    "현재까지 본 숫자는 0, 1, 2, 3, 5, 8, 9이다.\n",
    "\n",
    "다섯 번째로 5N = 6475번 양을 센다. 현재 본 숫자는 4, 5, 6, 7이다.\n",
    "\n",
    "현재까지 본 숫자는 0, 1, 2, 3, 4, 5, 6, 7, 8, 9이다.\n",
    "\n",
    "5N번 양을 세면 0에서 9까지 모든 숫자를 보게 되므로 민석이는 양 세기를 멈춘다.\n",
    "\n",
    "[입력]\n",
    "\n",
    "첫 번째 줄에 테스트 케이스의 수 T가 주어진다.\n",
    "\n",
    "각 테스트 케이스의 첫 번째 줄에는 N (1 ≤ N ≤ 106)이 주어진다.\n",
    "\n",
    "[출력]\n",
    "\n",
    "각 테스트 케이스마다 ‘#x’(x는 테스트케이스 번호를 의미하며 1부터 시작한다)를 출력하고,\n",
    "\n",
    "최소 몇 번 양을 세었을 때 이전에 봤던 숫자들의 자릿수에서 0에서 9까지의 모든 숫자를 보게 되는지 출력한다.\n",
    "\n",
    "( 민석이는 xN번 양을 세고 있다. )"
   ]
  },
  {
   "cell_type": "code",
   "execution_count": 15,
   "metadata": {},
   "outputs": [
    {
     "name": "stdout",
     "output_type": "stream",
     "text": [
      "1\n",
      "2\n",
      "#1 90\n"
     ]
    }
   ],
   "source": [
    "T = int(input())\n",
    "\n",
    "for i in range(T):\n",
    "    \n",
    "    N = int(input())  # 시작할 때의 양 번호\n",
    "    numbers = []\n",
    "    full = set([0, 1, 2, 3, 4, 5, 6, 7, 8, 9])\n",
    "    count = 1\n",
    "    save = N   # N값을 저장하기 위한 임시 변수\n",
    "    \n",
    "    while True:\n",
    "                \n",
    "        for j in str(N):\n",
    "            if int(j) not in numbers:\n",
    "                numbers.append(int(j))\n",
    "                \n",
    "        if set(numbers) != full:\n",
    "            count += 1\n",
    "            N = save * count   # 최종 양의 번호\n",
    "        else:\n",
    "            break\n",
    "            \n",
    "    print(f'#{i+1} {N}')"
   ]
  },
  {
   "cell_type": "code",
   "execution_count": null,
   "metadata": {},
   "outputs": [],
   "source": []
  },
  {
   "cell_type": "code",
   "execution_count": null,
   "metadata": {},
   "outputs": [],
   "source": []
  },
  {
   "cell_type": "code",
   "execution_count": null,
   "metadata": {},
   "outputs": [],
   "source": []
  },
  {
   "cell_type": "code",
   "execution_count": null,
   "metadata": {},
   "outputs": [],
   "source": []
  },
  {
   "cell_type": "code",
   "execution_count": null,
   "metadata": {},
   "outputs": [],
   "source": []
  },
  {
   "cell_type": "code",
   "execution_count": null,
   "metadata": {},
   "outputs": [],
   "source": []
  },
  {
   "cell_type": "markdown",
   "metadata": {},
   "source": [
    "(1928)\n",
    "\n",
    "다음과 같이 Encoding 을 한다.\n",
    "\n",
    "1. 우선 24비트 버퍼에 위쪽(MSB)부터 한 byte씩 3 byte의 문자를 집어넣는다.\n",
    "\n",
    "2. 버퍼의 위쪽부터 6비트씩 잘라 그 값을 읽고, 각각의 값을 아래 [표-1] 의 문자로 Encoding 한다.\n",
    "\n",
    "입력으로 Base64 Encoding 된 String 이 주어졌을 때, 해당 String 을 Decoding 하여, 원문을 출력하는 프로그램을 작성하시오.\n",
    "\n",
    "[제약사항]\n",
    "문자열의 길이는 항상 4의 배수로 주어진다.\n",
    "그리고 문자열의 길이는 100000을 넘지 않는다.\n",
    "\n",
    "[입력]\n",
    "입력은 첫 줄에 총 테스트 케이스의 개수 T가 온다.\n",
    "다음 줄부터 각 테스트 케이스가 주어진다.\n",
    "테스트 케이스는 Encoding 된 상태로 주어지는 문자열이다.\n",
    "\n",
    "[출력]\n",
    "테스트 케이스 t에 대한 결과는 “#t”을 찍고, 한 칸 띄고, 정답을 출력한다.\n",
    "(t는 테스트 케이스의 번호를 의미하며 1부터 시작한다.)"
   ]
  },
  {
   "cell_type": "code",
   "execution_count": 39,
   "metadata": {
    "scrolled": true
   },
   "outputs": [
    {
     "name": "stdout",
     "output_type": "stream",
     "text": [
      "1\n",
      "TGlm\n",
      "['010011000110100101100110']\n",
      "['0b01001100', '0b01101001', '0b01100110']\n",
      "Lif\n",
      "#1 Lif\n"
     ]
    }
   ],
   "source": [
    "T = int(input())\n",
    "\n",
    "pwd_table = {'A': 0, 'B': 1, 'C': 2, 'D': 3, 'E': 4, 'F': 5, 'G': 6, 'H': 7,\n",
    "            'I': 8, 'J': 9, 'K': 10, 'L': 11, 'M': 12, 'N': 13, 'O': 14, 'P': 15,\n",
    "            'Q': 16, 'R': 17, 'S': 18, 'T': 19, 'U': 20, 'V': 21, 'W': 22, 'X': 23,\n",
    "            'Y': 24, 'Z': 25, 'a': 26, 'b': 27, 'c': 28, 'd': 29, 'e': 30, 'f': 31,\n",
    "            'g': 32, 'h': 33, 'i': 34, 'j': 35, 'k': 36, 'l': 37, 'm': 38, 'n': 39,\n",
    "            'o': 40, 'p': 41, 'q': 42, 'r': 43, 's': 44, 't': 45, 'u': 46, 'v': 47,\n",
    "            'w': 48, 'x': 49, 'y': 50, 'z': 51, '0': 52, '1': 53, '2': 54, '3': 55,\n",
    "            '4': 56, '5': 57, '6': 58, '7': 59, '8': 60, '9': 61, '+': 62, '/': 63}\n",
    "\n",
    "for i in range(T):\n",
    "\n",
    "    base64 = input()\n",
    "    divide = []   # 원래 문자열 숫자로 바꾸기\n",
    "    link = []   # 2진수 숫자 넣는 배열\n",
    "    six = []   # 24자리씩 2진수 숫자 묶는 배열\n",
    "    eight = []   # 8자리씩 2진수 숫자 묶는 배열\n",
    "    decoding = \"\"   # 원래 문자열\n",
    "    \n",
    "    for j in range(len(base64)):\n",
    "        binary = bin(pwd_table[base64[j]])\n",
    "            \n",
    "        while True:   # 31 이하 정수의 경우 6자리 모두 변환되지 않음\n",
    "            first = binary[0:2]\n",
    "            last = binary[2:]\n",
    "            zero = '0'\n",
    "\n",
    "            if len(first) + len(last) == 3:\n",
    "                binary = first + (zero*5) + last\n",
    "            elif len(first) + len(last) == 4:\n",
    "                binary = first + (zero*4) + last\n",
    "            elif len(first) + len(last) == 5:\n",
    "                binary = first + (zero*3) + last\n",
    "            elif len(first) + len(last) == 6:\n",
    "                binary = first + (zero*2) + last\n",
    "            elif len(first) + len(last) == 7:\n",
    "                binary = first + (zero*1) + last\n",
    "            elif len(first) + len(last) == 8:\n",
    "                break\n",
    "\n",
    "        link.append(binary)\n",
    "        \n",
    "    for k in range(int(len(link)/4)):\n",
    "        six_4 = link[(4*k)][2:] + link[(4*k)+1][2:] + link[(4*k)+2][2:] + link[(4*k)+3][2:]\n",
    "        six.append(six_4)\n",
    "                                   \n",
    "#     print(six)\n",
    "    \n",
    "    for l in range(len(six)):\n",
    "        eight_1 = six[l][:8]\n",
    "        eight_2 = six[l][8:16]\n",
    "        eight_3 = six[l][16:]\n",
    "        eight.append('0b' + eight_1)\n",
    "        eight.append('0b' + eight_2)\n",
    "        eight.append('0b' + eight_3)\n",
    "    \n",
    "#     print(eight)\n",
    "    \n",
    "    for m in range(len(eight)):\n",
    "        decoding += chr(int(eight[m], 2))   # 2진수를 10진수로 변환하는 함수\n",
    "    \n",
    "#     print(decoding)\n",
    "    \n",
    "    print(f'#{i+1} {decoding}')      "
   ]
  },
  {
   "cell_type": "code",
   "execution_count": null,
   "metadata": {},
   "outputs": [],
   "source": []
  },
  {
   "cell_type": "code",
   "execution_count": null,
   "metadata": {},
   "outputs": [],
   "source": []
  },
  {
   "cell_type": "code",
   "execution_count": null,
   "metadata": {},
   "outputs": [],
   "source": []
  },
  {
   "cell_type": "code",
   "execution_count": null,
   "metadata": {},
   "outputs": [],
   "source": []
  },
  {
   "cell_type": "code",
   "execution_count": null,
   "metadata": {},
   "outputs": [],
   "source": []
  },
  {
   "cell_type": "code",
   "execution_count": null,
   "metadata": {},
   "outputs": [],
   "source": []
  }
 ],
 "metadata": {
  "kernelspec": {
   "display_name": "Python 3",
   "language": "python",
   "name": "python3"
  },
  "language_info": {
   "codemirror_mode": {
    "name": "ipython",
    "version": 3
   },
   "file_extension": ".py",
   "mimetype": "text/x-python",
   "name": "python",
   "nbconvert_exporter": "python",
   "pygments_lexer": "ipython3",
   "version": "3.6.7"
  }
 },
 "nbformat": 4,
 "nbformat_minor": 2
}
