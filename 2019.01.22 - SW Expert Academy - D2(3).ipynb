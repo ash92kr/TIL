{
 "cells": [
  {
   "cell_type": "code",
   "execution_count": null,
   "metadata": {},
   "outputs": [],
   "source": []
  },
  {
   "cell_type": "markdown",
   "metadata": {},
   "source": [
    "(1989)\n",
    "\n",
    "\"level\" 과 같이 거꾸로 읽어도 제대로 읽은 것과 같은 문장이나 낱말을 회문(回文, palindrome)이라 한다.\n",
    "\n",
    "단어를 입력 받아 회문이면 1을 출력하고, 아니라면 0을 출력하는 프로그램을 작성하라.\n",
    "\n",
    "\n",
    "[제약 사항]\n",
    "\n",
    "각 단어의 길이는 3 이상 10 이하이다.\n",
    "\n",
    "\n",
    "[입력]\n",
    "\n",
    "가장 첫 줄에는 테스트 케이스의 개수 T가 주어지고, 그 아래로 각 테스트 케이스가 주어진다.\n",
    "\n",
    "각 테스트 케이스의 첫 번째 줄에 하나의 단어가 주어진다.\n",
    "\n",
    "\n",
    "[출력]\n",
    "\n",
    "출력의 각 줄은 '#t'로 시작하고, 공백을 한 칸 둔 다음 정답을 출력한다.\n",
    "\n",
    "(t는 테스트 케이스의 번호를 의미하며 1부터 시작한다.)"
   ]
  },
  {
   "cell_type": "code",
   "execution_count": null,
   "metadata": {},
   "outputs": [],
   "source": [
    "T = int(input())\n",
    "\n",
    "for i in range(T):\n",
    "    \n",
    "    word = input()\n",
    "    palindrome = True\n",
    "    \n",
    "    for j in range(len(word)):\n",
    "        if word[j] != word[-j-1]:\n",
    "            palindrome = False\n",
    "    \n",
    "    if palindrome:\n",
    "        print(f'#{i+1} 1')\n",
    "    else:\n",
    "        print(f'#{i+1} 0')"
   ]
  },
  {
   "cell_type": "code",
   "execution_count": null,
   "metadata": {},
   "outputs": [],
   "source": []
  },
  {
   "cell_type": "code",
   "execution_count": null,
   "metadata": {},
   "outputs": [],
   "source": []
  },
  {
   "cell_type": "code",
   "execution_count": null,
   "metadata": {},
   "outputs": [],
   "source": []
  },
  {
   "cell_type": "code",
   "execution_count": null,
   "metadata": {},
   "outputs": [],
   "source": []
  },
  {
   "cell_type": "code",
   "execution_count": null,
   "metadata": {},
   "outputs": [],
   "source": []
  },
  {
   "cell_type": "code",
   "execution_count": null,
   "metadata": {},
   "outputs": [],
   "source": []
  },
  {
   "cell_type": "markdown",
   "metadata": {},
   "source": [
    "(2007)\n",
    "\n",
    "패턴에서 반복되는 부분을 마디라고 부른다. 문자열을 입력 받아 마디의 길이를 출력하는 프로그램을 작성하라.\n",
    "\n",
    "\n",
    "[제약 사항]\n",
    "\n",
    "각 문자열의 길이는 30이다. 마디의 최대 길이는 10이다.\n",
    "\n",
    "\n",
    "[입력]\n",
    "\n",
    "가장 첫 줄에는 테스트 케이스의 개수 T가 주어지고, 그 아래로 각 테스트 케이스가 주어진다.\n",
    "\n",
    "각 테스트 케이스의 첫 번째 줄에는 길이가 30인 문자열이 주어진다.\n",
    "\n",
    "\n",
    "[출력]\n",
    "\n",
    "출력의 각 줄은 '#t'로 시작하고, 공백을 한 칸 둔 다음 정답을 출력한다.\n",
    "\n",
    "(t는 테스트 케이스의 번호를 의미하며 1부터 시작한다.)\n",
    " "
   ]
  },
  {
   "cell_type": "code",
   "execution_count": null,
   "metadata": {},
   "outputs": [],
   "source": [
    "T = int(input())\n",
    "\n",
    "for test_case in range(1, T+1):\n",
    "    \n",
    "    words = input()\n",
    "    \n",
    "    \n",
    "    for i in range(0, 9):\n",
    "        for j in range(i+1, 10):\n",
    "            if words[i] == words[j]:\n",
    "                if \n",
    "                \n",
    "                \n",
    "                "
   ]
  },
  {
   "cell_type": "code",
   "execution_count": null,
   "metadata": {},
   "outputs": [],
   "source": []
  },
  {
   "cell_type": "code",
   "execution_count": null,
   "metadata": {},
   "outputs": [],
   "source": []
  },
  {
   "cell_type": "code",
   "execution_count": null,
   "metadata": {},
   "outputs": [],
   "source": []
  },
  {
   "cell_type": "code",
   "execution_count": null,
   "metadata": {},
   "outputs": [],
   "source": []
  },
  {
   "cell_type": "code",
   "execution_count": null,
   "metadata": {},
   "outputs": [],
   "source": []
  },
  {
   "cell_type": "code",
   "execution_count": null,
   "metadata": {},
   "outputs": [],
   "source": []
  },
  {
   "cell_type": "markdown",
   "metadata": {},
   "source": [
    "(1983)\n",
    "\n",
    "학기가 끝나고, 학생들의 점수로 학점을 계산중이다.\n",
    "\n",
    "학점은 상대평가로 주어지는데, 총 10개의 평점이 있다.(A+, A0, A-, B+, B0, B-, C+, C0, C-, D0)\n",
    "\n",
    "\n",
    "학점은 학생들이 응시한 중간/기말고사 점수 결과 및 과제 점수가 반영한다.\n",
    "\n",
    "각각 중간고사 35%, 기말고사 45%, 과제 20% 비율로 반영된다.\n",
    "\n",
    "\n",
    "10 개의 평점을 총점이 높은 순서대로 부여하는데,\n",
    "\n",
    "각각의 평점은 같은 비율로 부여할 수 있다.\n",
    "\n",
    "예를 들어, N 명의 학생이 있을 경우 N/10 명의 학생들에게 동일한 평점을 부여할 수 있다.\n",
    "\n",
    "입력으로 각각의 학생들의 중간, 기말, 과제 점수가 주어지고,\n",
    "\n",
    "학점을 알고싶은 K 번째 학생의 번호가 주어졌을 때,\n",
    "\n",
    "K 번째 학생의 학점을 출력하는 프로그램을 작성하라.\n",
    "\n",
    "\n",
    "[제약사항]\n",
    "\n",
    "1. N은 항상 10의 배수이며, 10이상 100이하의 정수이다. (10 ≤ N ≤ 100)\n",
    "\n",
    "2. K는 1 이상 N 이하의 정수이다. (1 ≤ K ≤ N)\n",
    "\n",
    "3. K 번째 학생의 총점과 다른 학생의 총점이 동일한 경우는 입력으로 주어지지 않는다.\n",
    "\n",
    "\n",
    "[입력]\n",
    "\n",
    "입력은 첫 줄에 총 테스트 케이스의 개수 T가 온다.\n",
    "\n",
    "다음 줄부터 각 테스트 케이스가 주어진다.\n",
    "\n",
    "테스트 케이스의 첫 번째 줄은 학생수 N 과, 학점을 알고싶은 학생의 번호 K 가 주어진다.\n",
    "\n",
    "테스트 케이스 두 번째 줄 부터 각각의 학생이 받은 시험 및 과제 점수가 주어진다.\n",
    "\n",
    "\n",
    "[출력]\n",
    "\n",
    "테스트 케이스 t에 대한 결과는 “#t”을 찍고, 한 칸 띄고, 정답을 출력한다.\n",
    "\n",
    "(t는 테스트 케이스의 번호를 의미하며 1부터 시작한다.)"
   ]
  },
  {
   "cell_type": "code",
   "execution_count": null,
   "metadata": {},
   "outputs": [],
   "source": [
    "T = int(input())\n",
    "\n",
    "for test_case in range(1, T+1):\n",
    "    \n",
    "    N, K = map(int, input().split())\n",
    "    sum_jumsu = []\n",
    "    \n",
    "    for i in range(N):\n",
    "        jumsu = list(map(int, input().split()))\n",
    "        sum_jumsu.append(jumsu[0]*0.35 + jumsu[1]*0.45 + jumsu[2]*0.2)\n",
    "    \n",
    "    for j in range(len(sum_jumsu)-1, 0, -1):\n",
    "        for k in range(0, j):\n",
    "            if sum_jumsu[j] == sum_jumsu[k]:\n",
    "                sum_jumsu[j], sum_jumsu[k] = sum_jumsu[k], sum_jumsu[j]\n",
    "    \n",
    "    grade = ['A+', 'A0', 'A-', 'B+', 'B0', 'B-', 'C+', 'C0', 'C-', 'D0']\n",
    "        \n",
    "    percent = K / len(sum_jumsu)\n",
    "        \n",
    "    for l in range(1, 11):\n",
    "        if percent <= 0.1*l:\n",
    "            print(f'#{test_case} {grade[l-1]}')\n",
    "            break   "
   ]
  },
  {
   "cell_type": "code",
   "execution_count": null,
   "metadata": {},
   "outputs": [],
   "source": []
  }
 ],
 "metadata": {
  "kernelspec": {
   "display_name": "Python 3",
   "language": "python",
   "name": "python3"
  },
  "language_info": {
   "codemirror_mode": {
    "name": "ipython",
    "version": 3
   },
   "file_extension": ".py",
   "mimetype": "text/x-python",
   "name": "python",
   "nbconvert_exporter": "python",
   "pygments_lexer": "ipython3",
   "version": "3.6.7"
  }
 },
 "nbformat": 4,
 "nbformat_minor": 2
}
