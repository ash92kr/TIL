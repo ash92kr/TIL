{
 "cells": [
  {
   "cell_type": "code",
   "execution_count": null,
   "metadata": {},
   "outputs": [],
   "source": []
  },
  {
   "cell_type": "raw",
   "metadata": {},
   "source": [
    "(1940)\n",
    "\n",
    "RC (Radio Control) 카의 이동거리를 계산하려고 한다.\n",
    "\n",
    "입력으로 매 초마다 아래와 같은 command 가 정수로 주어진다.\n",
    "\n",
    "0 : 현재 속도 유지.\n",
    "1 : 가속\n",
    "2 : 감속\n",
    "\n",
    "위 command 중, 가속(1) 또는 감속(2) 의 경우 가속도의 값이 추가로 주어진다.\n",
    "\n",
    "가속도의 단위는, m/s2 이며, 모두 양의 정수로 주어진다.\n",
    "\n",
    "입력으로 주어진 N 개의 command 를 모두 수행했을 때, N 초 동안 이동한 거리를 계산하는 프로그램을 작성하라.\n",
    "\n",
    "RC 카의 초기 속도는 0 m/s 이다.\n",
    "\n",
    "[예제]\n",
    "\n",
    "아래 예제 입력에서 정답은 3 이 된다.\n",
    "\n",
    "입력         시간     RC 카의 속도 RC     카의 이동거리\n",
    "1 2          1 sec          2 m/s                    2 m\n",
    "2 1          2 sec          1 m/s                    3 m\n",
    "\n",
    "\n",
    "[제약사항]\n",
    "\n",
    "1. N은 2이상 30이하의 정수이다. (2 ≤ N ≤ 30)\n",
    "\n",
    "2. 가속도의 값은 1 m/s2 혹은 2 m/s2 이다.\n",
    "\n",
    "3. 현재 속도보다 감속할 속도가 더 클 경우, 속도는 0 m/s 가 된다.\n",
    "\n",
    "\n",
    "[입력]\n",
    "\n",
    "입력은 첫 줄에 총 테스트 케이스의 개수 T, 다음 줄부터 각 테스트 케이스가 주어진다.\n",
    "\n",
    "테스트 케이스 첫 줄에는 Command 의 수 N이 주어지고, 둘째 줄부터, 매 줄마다 각각의 Command가 주어진다.\n",
    "\n",
    "\n",
    "[출력]\n",
    "\n",
    "테스트 케이스 t에 대한 결과는 “#t”을 찍고, 한 칸 띄고, 정답을 출력한다.\n",
    "\n",
    "(t는 테스트 케이스의 번호를 의미하며 1부터 시작한다.)"
   ]
  },
  {
   "cell_type": "code",
   "execution_count": 8,
   "metadata": {},
   "outputs": [
    {
     "name": "stdout",
     "output_type": "stream",
     "text": [
      "1\n",
      "10\n",
      "1 2\n",
      "1 1 \n",
      "2 2\n",
      "1 2\n",
      "0\n",
      "0\n",
      "1 1\n",
      "1 1\n",
      "1 2\n",
      "0\n",
      "6\n",
      "#1 30\n"
     ]
    }
   ],
   "source": [
    "T = int(input())\n",
    "\n",
    "for i in range(T):\n",
    "    \n",
    "    N = int(input())\n",
    "    speed = 0   # 차량의 현재 속도\n",
    "    meter = 0   # 차량이 이동한 총 거리\n",
    "        \n",
    "    for j in range(N):\n",
    "        \n",
    "        command = list(map(int, input().split()))\n",
    "        \n",
    "        if command[0] == 1:\n",
    "            speed += command[1]\n",
    "            meter += speed\n",
    "        elif command[0] == 2:\n",
    "            if speed <= command[1]:\n",
    "                speed = 0\n",
    "            else:\n",
    "                speed -= command[1]\n",
    "                meter += speed\n",
    "        else:\n",
    "            meter += speed\n",
    "        \n",
    "    print(f'#{i+1} {meter}')"
   ]
  },
  {
   "cell_type": "code",
   "execution_count": null,
   "metadata": {},
   "outputs": [],
   "source": []
  },
  {
   "cell_type": "code",
   "execution_count": null,
   "metadata": {},
   "outputs": [],
   "source": []
  },
  {
   "cell_type": "code",
   "execution_count": null,
   "metadata": {},
   "outputs": [],
   "source": []
  },
  {
   "cell_type": "code",
   "execution_count": null,
   "metadata": {},
   "outputs": [],
   "source": []
  },
  {
   "cell_type": "code",
   "execution_count": null,
   "metadata": {},
   "outputs": [],
   "source": []
  },
  {
   "cell_type": "code",
   "execution_count": null,
   "metadata": {},
   "outputs": [],
   "source": []
  },
  {
   "cell_type": "markdown",
   "metadata": {},
   "source": [
    "(1945)\n",
    "\n",
    "숫자 N은 아래와 같다.\n",
    "\n",
    "N=2a x 3b x 5c x 7d x 11e\n",
    "\n",
    "N이 주어질 때 a, b, c, d, e 를 출력하라.\n",
    "\n",
    "\n",
    "[제약 사항]\n",
    "\n",
    "N은 2 이상 10,000,000 이하이다.\n",
    "\n",
    "\n",
    "[입력]\n",
    "\n",
    "가장 첫 줄에는 테스트 케이스의 개수 T가 주어지고, 그 아래로 각 테스트 케이스가 주어진다.\n",
    "\n",
    "각 테스트 케이스의 첫 번째 줄에 N 이 주어진다.\n",
    "\n",
    "\n",
    "[출력]\n",
    "\n",
    "출력의 각 줄은 '#t'로 시작하고, 공백을 한 칸 둔 다음 정답을 출력한다.\n",
    "\n",
    "(t는 테스트 케이스의 번호를 의미하며 1부터 시작한다.)"
   ]
  },
  {
   "cell_type": "code",
   "execution_count": 11,
   "metadata": {},
   "outputs": [
    {
     "name": "stdout",
     "output_type": "stream",
     "text": [
      "1\n",
      "25\n",
      "#1 0 0 2 0 0\n"
     ]
    }
   ],
   "source": [
    "T = int(input())\n",
    "\n",
    "for i in range(T):\n",
    "    \n",
    "    N = int(input())\n",
    "    \n",
    "    a = 0\n",
    "    b = 0\n",
    "    c = 0\n",
    "    d = 0\n",
    "    e = 0\n",
    "    \n",
    "    while True:\n",
    "        \n",
    "        if N % 2 == 0:\n",
    "            a += 1\n",
    "            N /= 2\n",
    "        elif N % 3 == 0:\n",
    "            b += 1\n",
    "            N /= 3\n",
    "        elif N % 5 == 0:\n",
    "            c += 1\n",
    "            N /= 5\n",
    "        elif N % 7 == 0:\n",
    "            d += 1\n",
    "            N /= 7\n",
    "        elif N % 11 == 0:\n",
    "            e += 1\n",
    "            N /= 11\n",
    "        \n",
    "        if N == 1:\n",
    "            break\n",
    "    \n",
    "    print(f'#{i+1} {a} {b} {c} {d} {e}')"
   ]
  },
  {
   "cell_type": "code",
   "execution_count": null,
   "metadata": {},
   "outputs": [],
   "source": []
  },
  {
   "cell_type": "code",
   "execution_count": null,
   "metadata": {},
   "outputs": [],
   "source": []
  },
  {
   "cell_type": "code",
   "execution_count": null,
   "metadata": {},
   "outputs": [],
   "source": []
  },
  {
   "cell_type": "code",
   "execution_count": null,
   "metadata": {},
   "outputs": [],
   "source": []
  },
  {
   "cell_type": "code",
   "execution_count": null,
   "metadata": {},
   "outputs": [],
   "source": []
  },
  {
   "cell_type": "code",
   "execution_count": null,
   "metadata": {},
   "outputs": [],
   "source": []
  },
  {
   "cell_type": "markdown",
   "metadata": {},
   "source": [
    "(1946)\n",
    "\n",
    "원본 문서는 너비가 10인 여러 줄의 문자열로 이루어져 있다.\n",
    "\n",
    "문자열은 마지막 줄을 제외하고 빈 공간 없이 알파벳으로 채워져 있고 마지막 줄은 왼쪽부터 채워져 있다.\n",
    "\n",
    "이 문서를 압축한 문서는 알파벳과 그 알파벳의 연속된 개수로 이루어진 쌍들이 나열되어 있다. (예 : A 5    AAAAA)\n",
    "\n",
    "압축된 문서를 입력 받아 원본 문서를 만드는 프로그램을 작성하시오.\n",
    "\n",
    "[예제]\n",
    "압축된 문서의 내용\n",
    "\n",
    "A 10\n",
    "B 7\n",
    "C 5\n",
    "\n",
    "\n",
    "압축을 풀었을 때 원본 문서의 내용\n",
    "\n",
    "AAAAAAAAAA\n",
    "BBBBBBBCCC\n",
    "CC\n",
    "\n",
    "\n",
    "[제약사항]\n",
    "\n",
    "1. 압축된 문서의 알파벳과 숫자 쌍의 개수 N은1이상 10이하의 정수이다. (1 ≤ N ≤ 10)\n",
    "\n",
    "2. 주어지는 알파벳 Ci는 A~Z의 대문자이다. (i는 줄의 번호로 1~N까지의 수)\n",
    "\n",
    "3. 알파벳의 연속된 개수로 주어지는 수 Ki는 1이상 20이하의 정수이다. (1 ≤ Ki ≤ 20, i는 줄의 번호로 1~N까지의 수)\n",
    "\n",
    "4. 원본 문서의 너비는 10으로 고정이다.\n",
    "\n",
    "\n",
    "[입력]\n",
    "\n",
    "가장 첫 줄에는 테스트 케이스의 개수 T가 주어지고, 그 아래로 각 테스트 케이스가 주어진다.\n",
    "\n",
    "각 테스트 케이스에는 N이 주어지고 다음 줄부터 N+1줄까지 Ci와 Ki가 빈 칸을 사이에 두고 주어진다.\n",
    "\n",
    "\n",
    "[출력]\n",
    "\n",
    "각 줄은 '#t'로 시작하고, 다음 줄부터 원본 문서를 출력한다.\n",
    "\n",
    "(t는 테스트 케이스의 번호를 의미하며 1부터 시작한다.)"
   ]
  },
  {
   "cell_type": "code",
   "execution_count": null,
   "metadata": {
    "scrolled": true
   },
   "outputs": [],
   "source": [
    "T = int(input())\n",
    "\n",
    "for i in range(T):\n",
    "    \n",
    "    N = int(input())\n",
    "    raw_text = \"\"\n",
    "    \n",
    "    for j in range(N):\n",
    "        letter = list(map(str, input().split()))\n",
    "        raw_text += letter[0] * int(letter[1])\n",
    "        \n",
    "    if len(raw_text) >= 10 and (len(raw_text) % 10 + len(raw_text)//10) < 10:\n",
    "        for k in range(1, (len(raw_text)//10)+1):\n",
    "            front = raw_text[:(10*k)]\n",
    "            back = raw_text[(10*k):]\n",
    "            mid = '\\n'     \n",
    "            raw_text = front + mid + back\n",
    "    elif len(raw_text) >= 10 and (len(raw_text) % 10 + len(raw_text)//10) > 10:\n",
    "        for k in range(1, (len(raw_text)//10)+2):\n",
    "            front = raw_text[:(10*k)]\n",
    "            back = raw_text[(10*k):]\n",
    "            mid = '\\n'     \n",
    "            raw_text = front + mid + back\n",
    "        \n",
    "    print(f'#{i+1}\\n{raw_text}')"
   ]
  },
  {
   "cell_type": "code",
   "execution_count": null,
   "metadata": {},
   "outputs": [],
   "source": []
  },
  {
   "cell_type": "code",
   "execution_count": null,
   "metadata": {},
   "outputs": [],
   "source": []
  },
  {
   "cell_type": "code",
   "execution_count": null,
   "metadata": {},
   "outputs": [],
   "source": []
  },
  {
   "cell_type": "code",
   "execution_count": null,
   "metadata": {},
   "outputs": [],
   "source": []
  },
  {
   "cell_type": "code",
   "execution_count": null,
   "metadata": {},
   "outputs": [],
   "source": []
  },
  {
   "cell_type": "code",
   "execution_count": null,
   "metadata": {},
   "outputs": [],
   "source": []
  },
  {
   "cell_type": "markdown",
   "metadata": {},
   "source": [
    "(1948)\n",
    "\n",
    "월 일로 이루어진 날짜를 2개 입력 받아, 두 번째 날짜가 첫 번째 날짜의 며칠째인지 출력하는 프로그램을 작성하라.\n",
    "\n",
    "\n",
    "[제약 사항]\n",
    "\n",
    "월은 1 이상 12 이하의 정수이다. 각 달의 마지막 날짜는 다음과 같다.\n",
    "\n",
    "1/31, 2/28, 3/31, 4/30, 5/31, 6/30, 7/31, 8/31, 9/30, 10/31, 11/30, 12/31\n",
    "\n",
    "두 번째 날짜가 첫 번째 날짜보다 항상 크게 주어진다.\n",
    "\n",
    "\n",
    "[입력]\n",
    "\n",
    "가장 첫 줄에는 테스트 케이스의 개수 T가 주어지고, 그 아래로 각 테스트 케이스가 주어진다.\n",
    "\n",
    "각 테스트 케이스의 첫 번째 줄에는 4개의 수가 주어진다.\n",
    "\n",
    "첫 번째 수가 월을 나타내고 두 번째 수가 일을 나타낸다. 그 다음 같은 형식으로 두 번째 날짜가 주어진다.\n",
    "\n",
    "\n",
    "[출력]\n",
    "\n",
    "출력의 각 줄은 '#t'로 시작하고, 공백을 한 칸 둔 다음 정답을 출력한다. (t는 테스트 케이스의 번호를 의미하며 1부터 시작한다.)"
   ]
  },
  {
   "cell_type": "code",
   "execution_count": 11,
   "metadata": {},
   "outputs": [
    {
     "name": "stdout",
     "output_type": "stream",
     "text": [
      "3\n",
      "3 1 3 31\n",
      "#1 31\n",
      "5 5 8 15\n",
      "#2 102\n",
      "7 17 12 24\n",
      "#3 160\n"
     ]
    }
   ],
   "source": [
    "T = int(input())\n",
    "\n",
    "for i in range(T):\n",
    "    \n",
    "    day = list(map(int, input().split()))\n",
    "    \n",
    "    month = {1:31, 2:28, 3:31, 4:30, 5:31, 6:30,\n",
    "            7:31, 8:31, 9:30, 10:31, 11:30, 12:31}\n",
    "    \n",
    "    count = 1   # 시작일의 날짜를 1일로 계산함\n",
    "    \n",
    "    if day[0] == day[2]:\n",
    "        count += day[3] - day[1]\n",
    "    else:\n",
    "        for j in range(day[2] - day[0] - 1):\n",
    "            count += month[day[0] + j + 1]\n",
    "        count += (month[day[0]] - day[1])\n",
    "        count += day[3]\n",
    "    \n",
    "    print(f'#{i+1} {count}')"
   ]
  },
  {
   "cell_type": "code",
   "execution_count": null,
   "metadata": {},
   "outputs": [],
   "source": []
  },
  {
   "cell_type": "code",
   "execution_count": null,
   "metadata": {},
   "outputs": [],
   "source": []
  },
  {
   "cell_type": "code",
   "execution_count": null,
   "metadata": {},
   "outputs": [],
   "source": []
  },
  {
   "cell_type": "code",
   "execution_count": null,
   "metadata": {},
   "outputs": [],
   "source": []
  },
  {
   "cell_type": "code",
   "execution_count": null,
   "metadata": {},
   "outputs": [],
   "source": []
  },
  {
   "cell_type": "code",
   "execution_count": null,
   "metadata": {},
   "outputs": [],
   "source": []
  },
  {
   "cell_type": "raw",
   "metadata": {},
   "source": [
    "(1954)\n",
    "\n",
    "달팽이는 1부터 N*N까지의 숫자가 시계방향으로 이루어져 있다.\n",
    "\n",
    "다음과 같이 정수 N을 입력 받아 N크기의 달팽이를 출력하시오.\n",
    "\n",
    "\n",
    "[예제]\n",
    "\n",
    "N이 3일 경우,\n",
    "\n",
    "1 2 3 \n",
    "8 9 4\n",
    "7 6 5\n",
    "\n",
    "N이 4일 경우,\n",
    " \n",
    " 1  2  3  4\n",
    "12 13 14  5\n",
    "11 16 15  6\n",
    "10  9  8  7\n",
    "\n",
    "[제약사항]\n",
    "\n",
    "달팽이의 크기 N은 1 이상 10 이하의 정수이다. (1 ≤ N ≤ 10)\n",
    "\n",
    "\n",
    "[입력]\n",
    "\n",
    "가장 첫 줄에는 테스트 케이스의 개수 T가 주어지고, 그 아래로 각 테스트 케이스가 주어진다.\n",
    "\n",
    "각 테스트 케이스에는 N이 주어진다.\n",
    "\n",
    "\n",
    "[출력]\n",
    "\n",
    "각 줄은 '#t'로 시작하고, 다음 줄부터 빈칸을 사이에 두고 달팽이 숫자를 출력한다.\n",
    "\n",
    "(t는 테스트 케이스의 번호를 의미하며 1부터 시작한다.)"
   ]
  },
  {
   "cell_type": "code",
   "execution_count": null,
   "metadata": {},
   "outputs": [],
   "source": [
    "T = int(input())\n",
    "\n",
    "for i in range(T):\n",
    "    \n",
    "    N = int(input())\n",
    "\n",
    "    for j in range(1, (N * N + 1)):\n",
    "        \n",
    "        \n",
    "        \n",
    "        \n",
    "        \n",
    "        \n",
    "        \n"
   ]
  },
  {
   "cell_type": "code",
   "execution_count": null,
   "metadata": {},
   "outputs": [],
   "source": []
  },
  {
   "cell_type": "code",
   "execution_count": null,
   "metadata": {},
   "outputs": [],
   "source": []
  },
  {
   "cell_type": "code",
   "execution_count": null,
   "metadata": {},
   "outputs": [],
   "source": []
  },
  {
   "cell_type": "code",
   "execution_count": null,
   "metadata": {},
   "outputs": [],
   "source": []
  },
  {
   "cell_type": "code",
   "execution_count": null,
   "metadata": {},
   "outputs": [],
   "source": []
  },
  {
   "cell_type": "code",
   "execution_count": null,
   "metadata": {},
   "outputs": [],
   "source": []
  }
 ],
 "metadata": {
  "kernelspec": {
   "display_name": "Python 3",
   "language": "python",
   "name": "python3"
  },
  "language_info": {
   "codemirror_mode": {
    "name": "ipython",
    "version": 3
   },
   "file_extension": ".py",
   "mimetype": "text/x-python",
   "name": "python",
   "nbconvert_exporter": "python",
   "pygments_lexer": "ipython3",
   "version": "3.6.7"
  }
 },
 "nbformat": 4,
 "nbformat_minor": 2
}
